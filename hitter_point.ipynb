{
 "cells": [
  {
   "cell_type": "code",
   "execution_count": 1,
   "metadata": {
    "collapsed": true
   },
   "outputs": [],
   "source": [
    "import pandas as pd\n",
    "from sklearn.model_selection import train_test_split\n",
    "import matplotlib.pyplot as plt\n",
    "from sklearn.metrics import mean_squared_error"
   ]
  },
  {
   "cell_type": "code",
   "execution_count": 78,
   "metadata": {},
   "outputs": [
    {
     "name": "stderr",
     "output_type": "stream",
     "text": [
      "C:\\Users\\hsh47\\anaconda3\\lib\\site-packages\\openpyxl\\worksheet\\_read_only.py:79: UserWarning: Unknown extension is not supported and will be removed\n",
      "  for idx, row in parser.parse():\n",
      "C:\\Users\\hsh47\\anaconda3\\lib\\site-packages\\openpyxl\\worksheet\\_read_only.py:79: UserWarning: Unknown extension is not supported and will be removed\n",
      "  for idx, row in parser.parse():\n",
      "C:\\Users\\hsh47\\AppData\\Local\\Temp\\ipykernel_29352\\1210460153.py:12: SettingWithCopyWarning: \n",
      "A value is trying to be set on a copy of a slice from a DataFrame.\n",
      "Try using .loc[row_indexer,col_indexer] = value instead\n",
      "\n",
      "See the caveats in the documentation: https://pandas.pydata.org/pandas-docs/stable/user_guide/indexing.html#returning-a-view-versus-a-copy\n",
      "  df_for_model[['승점', 'AVG', 'RBI', 'SLG', 'OBP', 'OPS', 'RISP']] = df_for_model[['승점', 'AVG', 'RBI', 'SLG', 'OBP', 'OPS', 'RISP']].apply(pd.to_numeric)\n"
     ]
    },
    {
     "data": {
      "text/plain": [
       "LinearRegression()"
      ]
     },
     "execution_count": 78,
     "metadata": {},
     "output_type": "execute_result"
    }
   ],
   "source": [
    "year = ['2015','2016','2017','2018','2019','2020','2021']\n",
    "\n",
    "dff = pd.read_excel('hitter_point.xlsx', sheet_name='2015')\n",
    "col = dff.columns\n",
    "df_all = pd.DataFrame(columns=col)\n",
    "\n",
    "for i in year:\n",
    "    df1 = pd.read_excel('hitter_point.xlsx', sheet_name=i)\n",
    "    df_all = pd.concat([df_all, df1])\n",
    "\n",
    "df_for_model = df_all[['승점', 'AVG', 'RBI', 'SLG', 'OBP', 'OPS', 'RISP']]\n",
    "df_for_model[['승점', 'AVG', 'RBI', 'SLG', 'OBP', 'OPS', 'RISP']] = df_for_model[['승점', 'AVG', 'RBI', 'SLG', 'OBP', 'OPS', 'RISP']].apply(pd.to_numeric)\n",
    "\n",
    "from sklearn.linear_model import LinearRegression\n",
    "from sklearn.preprocessing import StandardScaler\n",
    "\n",
    "scaler = StandardScaler()\n",
    "scaler.fit(df_for_model.drop(['승점'], axis=1))\n",
    "\n",
    "df_scale = scaler.transform(df_for_model.drop(['승점'], axis=1))\n",
    "\n",
    "df_all_scale = pd.DataFrame(data = df_scale, columns = df_for_model.drop(['승점'], axis=1).columns)\n",
    "\n",
    "X = df_all_scale\n",
    "y = df_all['승점']\n",
    "\n",
    "model = LinearRegression()\n",
    "model.fit(X, y)"
   ]
  },
  {
   "cell_type": "code",
   "execution_count": 79,
   "metadata": {},
   "outputs": [
    {
     "data": {
      "text/plain": [
       "array([137.94265975, 142.83137593, 133.18127518, 126.90384282,\n",
       "       146.26201784, 131.20715313, 123.31688255, 112.7910046 ,\n",
       "       117.02651122, 104.26512665])"
      ]
     },
     "execution_count": 79,
     "metadata": {},
     "output_type": "execute_result"
    }
   ],
   "source": [
    "df_2022 = pd.read_excel('hitter_point.xlsx', sheet_name='2022')\n",
    "df_2022 = df_2022[['승점', 'AVG', 'RBI', 'SLG', 'OBP', 'OPS', 'RISP']]\n",
    "df_2022[['승점', 'AVG', 'RBI', 'SLG', 'OBP', 'OPS', 'RISP']] = df_2022[['승점', 'AVG', 'RBI', 'SLG', 'OBP', 'OPS', 'RISP']].apply(pd.to_numeric)\n",
    "\n",
    "df_scale = scaler.transform(df_2022.drop(['승점'], axis=1))\n",
    "df_2022_scale = pd.DataFrame(data = df_scale, columns = df_2022.drop(['승점'], axis=1).columns)\n",
    "\n",
    "pred = model.predict(df_2022_scale)\n",
    "pred"
   ]
  },
  {
   "cell_type": "code",
   "execution_count": 80,
   "metadata": {},
   "outputs": [
    {
     "name": "stdout",
     "output_type": "stream",
     "text": [
      "MAE: 19.53\n",
      "MSE: 587.59\n",
      "RMSE: 24.24\n",
      "R2: 0.06 (6%)\n"
     ]
    }
   ],
   "source": [
    "from sklearn.metrics import mean_absolute_error, r2_score\n",
    "\n",
    "mae = mean_absolute_error(df_2022['승점'], pred)\n",
    "mse = mean_squared_error(df_2022['승점'], pred)\n",
    "rmse = mse ** 0.5\n",
    "r2 = r2_score(df_2022['승점'], pred)\n",
    "\n",
    "print('MAE: %.2f' % mae)\n",
    "print('MSE: %.2f' % mse)\n",
    "print('RMSE: %.2f' % rmse)\n",
    "print('R2: %.2f (%d%%)' % (r2, r2*100))"
   ]
  },
  {
   "cell_type": "code",
   "execution_count": null,
   "metadata": {},
   "outputs": [],
   "source": []
  }
 ],
 "metadata": {
  "kernelspec": {
   "display_name": "Python 3 (ipykernel)",
   "language": "python",
   "name": "python3"
  },
  "language_info": {
   "codemirror_mode": {
    "name": "ipython",
    "version": 3
   },
   "file_extension": ".py",
   "mimetype": "text/x-python",
   "name": "python",
   "nbconvert_exporter": "python",
   "pygments_lexer": "ipython3",
   "version": "3.10.9"
  }
 },
 "nbformat": 4,
 "nbformat_minor": 1
}
